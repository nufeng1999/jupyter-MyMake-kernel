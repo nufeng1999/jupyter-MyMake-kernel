{
 "cells": [
  {
   "cell_type": "code",
   "execution_count": 6,
   "metadata": {},
   "outputs": [
    {
     "name": "stdout",
     "output_type": "stream",
     "text": [
      "[MyMake Kernel] Info:file H:/Jupyter/ipynb/MyMake/src/test.makefile created successfully\n",
      "[MyMake Kernel] Info:The process :H:/Jupyter/ipynb/MyMake/src/test.makefile\n",
      "[MyMake Kernel] Info:make -f H:/Jupyter/ipynb/MyMake/src/test.makefile test \n"
     ]
    },
    {
     "data": {
      "text/plain": [
       "----------make start------------\n"
      ]
     },
     "metadata": {
      "text/plain": {}
     },
     "output_type": "display_data"
    },
    {
     "data": {
      "text/plain": [
       "hello world!\n"
      ]
     },
     "metadata": {
      "text/plain": {}
     },
     "output_type": "display_data"
    },
    {
     "name": "stdout",
     "output_type": "stream",
     "text": [
      "[MyMake Kernel] Info:The process end:7116\n"
     ]
    }
   ],
   "source": [
    "## ---------------------------\n",
    "## %runinterm\n",
    "##%term:c:\\Windows\\System32\\cmd.exe /c start \n",
    "## %cflags: -o src/test.exe\n",
    "## %ldflags:\n",
    "## ----------------------------------\n",
    "##%overwritefile\n",
    "##%file:src/test.makefile\n",
    "##%args:test\n",
    "## %noruncode\n",
    "##%log:1\n",
    "## ----------------------------------\n",
    "test:\n",
    "\t@echo \"----------make start------------\"\n",
    "\t@echo \"hello world!\""
   ]
  },
  {
   "cell_type": "code",
   "execution_count": null,
   "metadata": {},
   "outputs": [],
   "source": []
  }
 ],
 "metadata": {
  "kernelspec": {
   "display_name": "MyMake",
   "language": "make",
   "name": "mymake"
  },
  "language_info": {
   "name": "make"
  },
  "orig_nbformat": 4
 },
 "nbformat": 4,
 "nbformat_minor": 2
}
